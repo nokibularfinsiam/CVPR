{
  "cells": [
    {
      "cell_type": "code",
      "execution_count": null,
      "metadata": {
        "id": "r5RrA4JcBFCH"
      },
      "outputs": [],
      "source": [
        "from sklearn.datasets import make_classification\n",
        "from sklearn.model_selection import train_test_split\n",
        "import numpy as np\n",
        "import matplotlib.pyplot as plt\n",
        "from sklearn.metrics import classification_report, confusion_matrix\n",
        "from sklearn.metrics import roc_curve, auc\n",
        "from sklearn.preprocessing import label_binarize\n",
        "import matplotlib.pyplot as plt\n",
        "from itertools import cycle\n",
        "import seaborn as sns\n"
      ]
    },
    {
      "cell_type": "markdown",
      "metadata": {
        "id": "qSWwDmVIQp--"
      },
      "source": [
        "#Generating the Synthetic Dataset"
      ]
    },
    {
      "cell_type": "code",
      "execution_count": null,
      "metadata": {
        "id": "7DjUZHnFIQbj"
      },
      "outputs": [],
      "source": [
        "# Generate synthetic dataset with 1000 samples, 20 features, and 5 distinct classes\n",
        "X, y = make_classification(n_samples=1000, n_features=20, n_classes=5, n_informative=15, n_clusters_per_class=1, random_state=42)\n",
        "\n",
        "# Split the dataset into training and testing sets\n",
        "X_train, X_test, y_train, y_test = train_test_split(X, y, test_size=0.2, random_state=42)\n",
        "\n",
        "# Convert the labels to one-hot encoding for multi-class classification\n",
        "def one_hot_encode(labels, num_classes):\n",
        "    one_hot = np.zeros((labels.size, num_classes))\n",
        "    one_hot[np.arange(labels.size), labels] = 1\n",
        "    return one_hot\n",
        "\n",
        "y_train_one_hot = one_hot_encode(y_train, 5)\n",
        "y_test_one_hot = one_hot_encode(y_test, 5)"
      ]
    },
    {
      "cell_type": "markdown",
      "metadata": {
        "id": "UD8ZiK1pQwxP"
      },
      "source": [
        "# Neural Network Class Implementation"
      ]
    },
    {
      "cell_type": "code",
      "execution_count": null,
      "metadata": {
        "id": "iWW1KgOnBMT-"
      },
      "outputs": [],
      "source": [
        "class NeuralNetwork:\n",
        "    def __init__(self, input_size, hidden_sizes, output_size):\n",
        "        self.weights = [\n",
        "            np.random.randn(input_size, hidden_sizes[0]),\n",
        "            np.random.randn(hidden_sizes[0], hidden_sizes[1]),\n",
        "            np.random.randn(hidden_sizes[1], hidden_sizes[2]),\n",
        "            np.random.randn(hidden_sizes[2], output_size)\n",
        "        ]\n",
        "        self.biases = [\n",
        "            np.random.randn(hidden_sizes[0]),\n",
        "            np.random.randn(hidden_sizes[1]),\n",
        "            np.random.randn(hidden_sizes[2]),\n",
        "            np.random.randn(output_size)\n",
        "        ]\n",
        "\n",
        "    def relu(self, x):\n",
        "        return np.maximum(0, x)\n",
        "\n",
        "    def relu_derivative(self, x):\n",
        "        return np.where(x > 0, 1, 0)\n",
        "\n",
        "    def softmax(self, x):\n",
        "        exps = np.exp(x - np.max(x, axis=1, keepdims=True))\n",
        "        return exps / np.sum(exps, axis=1, keepdims=True)\n",
        "\n",
        "    def cross_entropy_loss(self, y_pred, y_true):\n",
        "        n_samples = y_true.shape[0]\n",
        "        logp = - np.log(y_pred[np.arange(n_samples), y_true.argmax(axis=1)])\n",
        "        loss = np.sum(logp) / n_samples\n",
        "        return loss\n",
        "\n",
        "    def feedForward(self, X):\n",
        "        \"\"\"Forward pass through the network\"\"\"\n",
        "        self.z1 = np.dot(X, self.weights[0]) + self.biases[0]\n",
        "        self.a1 = self.relu(self.z1)\n",
        "\n",
        "        self.z2 = np.dot(self.a1, self.weights[1]) + self.biases[1]\n",
        "        self.a2 = self.relu(self.z2)\n",
        "\n",
        "        self.z3 = np.dot(self.a2, self.weights[2]) + self.biases[2]\n",
        "        self.a3 = self.relu(self.z3)\n",
        "\n",
        "        self.z4 = np.dot(self.a3, self.weights[3]) + self.biases[3]\n",
        "        y_pred = self.softmax(self.z4)\n",
        "        return y_pred\n",
        "\n",
        "    def backPropagation(self, X, y_true, y_pred, learning_rate=0.01):\n",
        "        \"\"\"Backward pass and weight updates using backpropagation\"\"\"\n",
        "        m = y_true.shape[0]\n",
        "\n",
        "        dz4 = y_pred - y_true\n",
        "        dw4 = np.dot(self.a3.T, dz4) / m\n",
        "        db4 = np.sum(dz4, axis=0) / m\n",
        "\n",
        "        dz3 = np.dot(dz4, self.weights[3].T) * self.relu_derivative(self.z3)\n",
        "        dw3 = np.dot(self.a2.T, dz3) / m\n",
        "        db3 = np.sum(dz3, axis=0) / m\n",
        "\n",
        "        dz2 = np.dot(dz3, self.weights[2].T) * self.relu_derivative(self.z2)\n",
        "        dw2 = np.dot(self.a1.T, dz2) / m\n",
        "        db2 = np.sum(dz2, axis=0) / m\n",
        "\n",
        "        dz1 = np.dot(dz2, self.weights[1].T) * self.relu_derivative(self.z1)\n",
        "        dw1 = np.dot(X.T, dz1) / m\n",
        "        db1 = np.sum(dz1, axis=0) / m\n",
        "\n",
        "        self.weights[3] -= learning_rate * dw4\n",
        "        self.biases[3] -= learning_rate * db4\n",
        "\n",
        "        self.weights[2] -= learning_rate * dw3\n",
        "        self.biases[2] -= learning_rate * db3\n",
        "\n",
        "        self.weights[1] -= learning_rate * dw2\n",
        "        self.biases[1] -= learning_rate * db2\n",
        "\n",
        "        self.weights[0] -= learning_rate * dw1\n",
        "        self.biases[0] -= learning_rate * db1\n",
        "\n",
        "    def train(self, X_train, y_train, epochs=1000, learning_rate=0.01):\n",
        "        loss_history = []\n",
        "        for epoch in range(epochs):\n",
        "            y_pred = self.feedForward(X_train)\n",
        "            loss = self.cross_entropy_loss(y_pred, y_train)\n",
        "            loss_history.append(loss)\n",
        "            self.backPropagation(X_train, y_train, y_pred, learning_rate)\n",
        "            if epoch % 100 == 0:\n",
        "                print(f\"Epoch {epoch}, Loss: {loss}\")\n",
        "\n",
        "        # Plot the loss over epochs\n",
        "        plt.plot(loss_history)\n",
        "        plt.title('Loss over Epochs')\n",
        "        plt.xlabel('Epochs')\n",
        "        plt.ylabel('Loss')\n",
        "        plt.show()\n",
        "\n",
        "    def predict_proba(self, X):\n",
        "        \"\"\"Predict probabilities (Softmax output)\"\"\"\n",
        "        return self.feedForward(X)\n",
        "\n",
        "    def predict(self, X):\n",
        "        \"\"\"Predict class labels\"\"\"\n",
        "        y_pred = self.feedForward(X)\n",
        "        return np.argmax(y_pred, axis=1)\n"
      ]
    },
    {
      "cell_type": "markdown",
      "metadata": {
        "id": "R_rAURZoQ8BH"
      },
      "source": [
        "#Training and Evaluation\n"
      ]
    },
    {
      "cell_type": "code",
      "execution_count": null,
      "metadata": {
        "colab": {
          "base_uri": "https://localhost:8080/",
          "height": 698
        },
        "id": "8skPLdYSBVzV",
        "outputId": "0ee45d91-f3d0-4fb1-c952-3fecbd03671c"
      },
      "outputs": [
        {
          "name": "stderr",
          "output_type": "stream",
          "text": [
            "<ipython-input-3-8011ffac2290>:28: RuntimeWarning: divide by zero encountered in log\n",
            "  logp = - np.log(y_pred[np.arange(n_samples), y_true.argmax(axis=1)])\n"
          ]
        },
        {
          "name": "stdout",
          "output_type": "stream",
          "text": [
            "Epoch 0, Loss: inf\n",
            "Epoch 100, Loss: 1.4609666863916666\n",
            "Epoch 200, Loss: 1.3682226261357249\n",
            "Epoch 300, Loss: 1.3355208046905644\n",
            "Epoch 400, Loss: 1.3120753504016944\n",
            "Epoch 500, Loss: 1.2985588727583768\n",
            "Epoch 600, Loss: 1.2869579798480837\n",
            "Epoch 700, Loss: 1.2802741004359564\n",
            "Epoch 800, Loss: 1.2749333173070843\n",
            "Epoch 900, Loss: 1.2711249769966997\n"
          ]
        },
        {
          "data": {
            "image/png": "[encoded data removed]",
            "text/plain": [
              "<Figure size 640x480 with 1 Axes>"
            ]
          },
          "metadata": {},
          "output_type": "display_data"
        },
        {
          "name": "stdout",
          "output_type": "stream",
          "text": [
            "Accuracy: 28.00%\n"
          ]
        }
      ],
      "source": [
        "# Initialize the neural network\n",
        "nn = NeuralNetwork(input_size=20, hidden_sizes=[128, 64, 32], output_size=5)\n",
        "\n",
        "# Train the neural network\n",
        "nn.train(X_train, y_train_one_hot, epochs=1000, learning_rate=0.01)\n",
        "\n",
        "# Make predictions on the test set\n",
        "y_pred = nn.predict(X_test)\n",
        "\n",
        "# Calculate accuracy\n",
        "accuracy = np.mean(y_pred == y_test)\n",
        "print(f\"Accuracy: {accuracy * 100:.2f}%\")\n"
      ]
    },
    {
      "cell_type": "code",
      "execution_count": null,
      "metadata": {
        "colab": {
          "base_uri": "https://localhost:8080/"
        },
        "id": "b-EIaNuHBnFm",
        "outputId": "98517887-d858-42b8-f456-b5113ab246bd"
      },
      "outputs": [
        {
          "name": "stdout",
          "output_type": "stream",
          "text": [
            "              precision    recall  f1-score   support\n",
            "\n",
            "           0       0.55      0.13      0.21        45\n",
            "           1       0.64      0.18      0.29        38\n",
            "           2       0.42      0.13      0.20        39\n",
            "           3       0.00      0.00      0.00        34\n",
            "           4       0.24      0.86      0.37        44\n",
            "\n",
            "    accuracy                           0.28       200\n",
            "   macro avg       0.37      0.26      0.21       200\n",
            "weighted avg       0.38      0.28      0.22       200\n",
            "\n"
          ]
        }
      ],
      "source": [
        "# Generate classification report\n",
        "print(classification_report(y_test, y_pred))\n"
      ]
    },
    {
      "cell_type": "markdown",
      "metadata": {
        "id": "mm-jOZa9RPLt"
      },
      "source": [
        "#Performance Metrics(confusion matrix)\n",
        "\n"
      ]
    },
    {
      "cell_type": "code",
      "execution_count": null,
      "metadata": {
        "colab": {
          "base_uri": "https://localhost:8080/",
          "height": 564
        },
        "id": "lGQhCew3Cjdo",
        "outputId": "99a67eaa-7915-4293-8dc0-e4df64f6110b"
      },
      "outputs": [
        {
          "data": {
            "image/png": "[encoded data removed]",
            "text/plain": [
              "<Figure size 800x600 with 2 Axes>"
            ]
          },
          "metadata": {},
          "output_type": "display_data"
        }
      ],
      "source": [
        "# After training and making predictions\n",
        "y_pred = nn.predict(X_test)\n",
        "\n",
        "# Confusion matrix\n",
        "conf_matrix = confusion_matrix(y_test, y_pred)\n",
        "\n",
        "# Plot confusion matrix using seaborn\n",
        "plt.figure(figsize=(8, 6))\n",
        "sns.heatmap(conf_matrix, annot=True, fmt='d', cmap='Blues', xticklabels=[0, 1, 2, 3, 4], yticklabels=[0, 1, 2, 3, 4])\n",
        "plt.title('Confusion Matrix')\n",
        "plt.xlabel('Predicted Labels')\n",
        "plt.ylabel('True Labels')\n",
        "plt.show()\n"
      ]
    }
  ],
  "metadata": {
    "accelerator": "GPU",
    "colab": {
      "gpuType": "T4",
      "provenance": []
    },
    "kernelspec": {
      "display_name": "Python 3",
      "name": "python3"
    },
    "language_info": {
      "name": "python"
    }
  },
  "nbformat": 4,
  "nbformat_minor": 0
}
